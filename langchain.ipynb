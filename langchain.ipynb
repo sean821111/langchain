{
 "cells": [
  {
   "cell_type": "markdown",
   "metadata": {},
   "source": [
    "# Overview\n",
    "This notebook is for learning langchain. You will get through these key features in langchain framework.\n",
    "* Prompt template\n",
    "* Chain: Combine LLMs and propmpts in multi-step workflows \n",
    "* Agents: Dynamically Call Chains Based on User Input\n",
    "* Memory: The Memory module gives you a way to maintain application state (contextualize)\n",
    "\n",
    "[Reference: langchin quickstart](https://python.langchain.com/docs/get_started/quickstart)\n"
   ]
  },
  {
   "cell_type": "markdown",
   "metadata": {},
   "source": [
    "# Setup"
   ]
  },
  {
   "cell_type": "code",
   "execution_count": 1,
   "metadata": {},
   "outputs": [],
   "source": [
    "import os\n",
    "from langchain.llms import OpenAI\n",
    "\n",
    "# get openai api key\n",
    "api_key = os.getenv(\"OPENAI_API_KEY\")\n",
    "llm = OpenAI(openai_api_key=api_key)"
   ]
  },
  {
   "cell_type": "code",
   "execution_count": 6,
   "metadata": {},
   "outputs": [
    {
     "name": "stdout",
     "output_type": "stream",
     "text": [
      "\n",
      "\n",
      "Happy Toes Socks\n"
     ]
    }
   ],
   "source": [
    "text = \"What would be a good company name for a company that makes colorful socks?\"\n",
    "print(llm(text))"
   ]
  },
  {
   "cell_type": "markdown",
   "metadata": {},
   "source": [
    "\n",
    "# Prompt Template\n",
    "Prompt 樣板可以作為\n",
    "* 指導語言模型\n",
    "* 少樣範例去幫助語言模型產生更好的回覆\n",
    "\n",
    "[read for more about prompt teamplate](https://python.langchain.com/docs/modules/model_io/prompts/prompt_templates/)"
   ]
  },
  {
   "cell_type": "code",
   "execution_count": 7,
   "metadata": {},
   "outputs": [
    {
     "data": {
      "text/plain": [
       "'Tell me a funny joke about chickens.'"
      ]
     },
     "execution_count": 7,
     "metadata": {},
     "output_type": "execute_result"
    }
   ],
   "source": [
    "from langchain import PromptTemplate\n",
    "\n",
    "# An example prompt with no input variables\n",
    "no_input_prompt = PromptTemplate(input_variables=[], template=\"Tell me a joke.\")\n",
    "no_input_prompt.format()\n",
    "# -> \"Tell me a joke.\"\n",
    "\n",
    "# An example prompt with one input variable\n",
    "one_input_prompt = PromptTemplate(input_variables=[\"adjective\"], template=\"Tell me a {adjective} joke.\")\n",
    "one_input_prompt.format(adjective=\"funny\")\n",
    "# -> \"Tell me a funny joke.\"\n",
    "\n",
    "# An example prompt with multiple input variables\n",
    "multiple_input_prompt = PromptTemplate(\n",
    "    input_variables=[\"adjective\", \"content\"], \n",
    "    template=\"Tell me a {adjective} joke about {content}.\"\n",
    ")\n",
    "multiple_input_prompt.format(adjective=\"funny\", content=\"chickens\")\n",
    "# -> \"Tell me a funny joke about chickens.\""
   ]
  },
  {
   "cell_type": "markdown",
   "metadata": {},
   "source": [
    "If you do not wish to specify `input_variables` manually, you can also create a `PromptTemplate` using `from_template` class method. \n",
    "<br>\n",
    "langchain will automatically infer the `input_variables` based on the `template` passed."
   ]
  },
  {
   "cell_type": "code",
   "execution_count": 8,
   "metadata": {},
   "outputs": [
    {
     "data": {
      "text/plain": [
       "'Tell me a funny joke about chickens.'"
      ]
     },
     "execution_count": 8,
     "metadata": {},
     "output_type": "execute_result"
    }
   ],
   "source": [
    "template = \"Tell me a {adjective} joke about {content}.\"\n",
    "\n",
    "prompt_template = PromptTemplate.from_template(template)\n",
    "prompt_template.input_variables\n",
    "# -> ['adjective', 'content']\n",
    "prompt_template.format(adjective=\"funny\", content=\"chickens\")\n",
    "# -> Tell me a funny joke about chickens."
   ]
  },
  {
   "cell_type": "markdown",
   "metadata": {},
   "source": [
    "# Chains: Combine LLMs and propmpts in multi-step workflows \n"
   ]
  },
  {
   "cell_type": "code",
   "execution_count": 38,
   "metadata": {},
   "outputs": [],
   "source": [
    "from langchain.prompts import PromptTemplate\n",
    "from langchain.llms import OpenAI\n",
    "\n",
    "llm = OpenAI(temperature=0.9)\n",
    "\n",
    "# Prompt template and takes user input \n",
    "prompt = PromptTemplate(\n",
    "    input_variables=[\"product\"],\n",
    "    template=\"What is a good name for a company that makes {product}?\",\n",
    ")\n",
    "\n",
    "from langchain.chains import LLMChain\n",
    "chain = LLMChain(llm=llm, prompt=prompt)"
   ]
  },
  {
   "cell_type": "code",
   "execution_count": 39,
   "metadata": {},
   "outputs": [
    {
     "data": {
      "text/plain": [
       "'\\n\\nCheery Toes Socks.'"
      ]
     },
     "execution_count": 39,
     "metadata": {},
     "output_type": "execute_result"
    }
   ],
   "source": [
    "chain.run(\"colorful socks\")"
   ]
  },
  {
   "cell_type": "markdown",
   "metadata": {},
   "source": [
    "# Agents: Dynamically Call Chains Based on User Input\n",
    "\n",
    "[serpAPI: Scrape Google and other search engines from API.](https://serpapi.com/dashboard)\n",
    "\n",
    "結合 google search ，一步一步推論，回答每個流程的提問並且整合回答最終答案。"
   ]
  },
  {
   "cell_type": "code",
   "execution_count": 3,
   "metadata": {},
   "outputs": [],
   "source": [
    "import os\n",
    "\n",
    "# Setting your API key\n",
    "# os.environ[\"SERPAPI_API_KEY\"]\n"
   ]
  },
  {
   "cell_type": "code",
   "execution_count": 11,
   "metadata": {},
   "outputs": [
    {
     "name": "stderr",
     "output_type": "stream",
     "text": [
      "WARNING! api_key is not default parameter.\n",
      "                    api_key was transferred to model_kwargs.\n",
      "                    Please confirm that api_key is what you intended.\n"
     ]
    },
    {
     "name": "stdout",
     "output_type": "stream",
     "text": [
      "\n",
      "\n",
      "\u001b[1m> Entering new AgentExecutor chain...\u001b[0m\n",
      "\u001b[32;1m\u001b[1;3m I should look for a product that has a display or panel\n",
      "Action: Search\n",
      "Action Input: Omron product name with display or panel\u001b[0m\n",
      "Observation: \u001b[36;1m\u001b[1;3mOur digital panel meters enhance production by providing high-speed, high-precision results for important measurements.\u001b[0m\n",
      "Thought:\u001b[32;1m\u001b[1;3m I should look for more information about the product\n",
      "Action: Search\n",
      "Action Input: Omron digital panel meters\u001b[0m\n",
      "Observation: \u001b[36;1m\u001b[1;3m[{'position': 1, 'block_position': 'top', 'title': 'Omron K3GN-NDC 24VDC Digital Panel Meters', 'price': '$355.00', 'extracted_price': 355.0, 'link': 'https://www.mouser.com/ProductDetail/Omron-Automation-and-Safety/K3GN-NDC-24VDC?qs=anVall655kRbPlc5svtW7Q%3D%3D&mgh=1', 'source': 'Mouser Electronics', 'shipping': 'Get it by 7/6', 'thumbnail': 'https://serpapi.com/searches/64a27d9a2236e23c6aa10cee/images/e8fbd5a9a61797cd6b8fc5238c8e3f858f9909e66fd666081691ab0d2a1bff59.jpeg'}, {'position': 2, 'block_position': 'top', 'title': 'Digital Panel Meter: 1/8 DIN, 20mm 4-digit red LED (PN# DPM2L-AT-2R-HL)', 'price': '$159.00', 'extracted_price': 159.0, 'link': 'https://www.automationdirect.com/pn/dpm2l-at-2r-hl', 'source': 'AutomationDirect.com', 'thumbnail': 'https://serpapi.com/searches/64a27d9a2236e23c6aa10cee/images/e8fbd5a9a61797cd6b8fc5238c8e3f855e2c2cfa213effb643cce9f020c67274.jpeg', 'extensions': ['Free shipping', '30-day returns (most items)']}, {'position': 3, 'block_position': 'top', 'title': 'Omron K3NX-VD2A-B2 Process Meter 12-24Vdc 10W', 'price': '$45.00', 'extracted_price': 45.0, 'link': 'https://industrialpartsrus.com/omron-k3nx-vd2a-b2-process-meter-12-24vdc-10w/', 'second_hand_condition': 'Used', 'source': 'Industrial Parts R Us', 'thumbnail': 'https://serpapi.com/searches/64a27d9a2236e23c6aa10cee/images/e8fbd5a9a61797cd6b8fc5238c8e3f8567fe6ea41a26bc6279f3bb1d1104ef5a.jpeg', 'extensions': ['30-day return policy']}]\u001b[0m\n",
      "Thought:\u001b[32;1m\u001b[1;3m I now know the final answer\n",
      "Final Answer: Omron offers a variety of digital panel meters, including the K3GN-NDC 24VDC Digital Panel Meter, the Digital Panel Meter: 1/8 DIN, 20mm 4-digit red LED (PN# DPM2L-AT-2R-HL), and the Omron K3NX-VD2A-B2 Process Meter 12-24Vdc 10W.\u001b[0m\n",
      "\n",
      "\u001b[1m> Finished chain.\u001b[0m\n"
     ]
    },
    {
     "data": {
      "text/plain": [
       "'Omron offers a variety of digital panel meters, including the K3GN-NDC 24VDC Digital Panel Meter, the Digital Panel Meter: 1/8 DIN, 20mm 4-digit red LED (PN# DPM2L-AT-2R-HL), and the Omron K3NX-VD2A-B2 Process Meter 12-24Vdc 10W.'"
      ]
     },
     "execution_count": 11,
     "metadata": {},
     "output_type": "execute_result"
    }
   ],
   "source": [
    "from langchain.agents import load_tools\n",
    "from langchain.agents import initialize_agent\n",
    "from langchain.agents import AgentType\n",
    "from langchain.llms import OpenAI\n",
    "\n",
    "# First, let's load the language model we're going to use to control the agent.\n",
    "llm = OpenAI(api_key=api_key, temperature=0)\n",
    "\n",
    "# Next, let's load some tools to use. Note that the `llm-math` tool uses an LLM, so we need to pass that in.\n",
    "# tools = load_tools([\"serpapi\", \"llm-math\"], llm=llm)\n",
    "tools = load_tools([\"serpapi\"], llm=llm)\n",
    "\n",
    "\n",
    "# Finally, let's initialize an agent with the tools, the language model, and the type of agent we want to use.\n",
    "agent = initialize_agent(tools, llm, agent=AgentType.ZERO_SHOT_REACT_DESCRIPTION, verbose=True)\n",
    "\n",
    "# Now let's test it out!\n",
    "# agent.run(\"What was the high temperature in SF yesterday in Fahrenheit? What is that number raised to the .023 power?\")\n",
    "\n",
    "agent.run(\"Search Omron product name which has display or panel onit\")\n"
   ]
  },
  {
   "cell_type": "markdown",
   "metadata": {},
   "source": [
    "## More agent examples\n"
   ]
  },
  {
   "cell_type": "code",
   "execution_count": 15,
   "metadata": {},
   "outputs": [
    {
     "name": "stdout",
     "output_type": "stream",
     "text": [
      "\n",
      "\n",
      "\u001b[1m> Entering new AgentExecutor chain...\u001b[0m\n",
      "\u001b[32;1m\u001b[1;3m I need to find out what the best selling HMI from Emerson are and find the PDF files for their specifications\n",
      "Action: Search\n",
      "Action Input: \"Best selling HMI from Emerson\"\u001b[0m\n",
      "Observation: \u001b[36;1m\u001b[1;3m1. Honeywell International Inc. · 2. Siemens AG · 3. Rockwell Automation Inc. · 4. Schneider Electric SE · 5. ABB Ltd · 6. General Electric SE · 7.\u001b[0m\n",
      "Thought:\u001b[32;1m\u001b[1;3m I need to find the PDF files for the specifications\n",
      "Action: Search\n",
      "Action Input: \"Emerson HMI specifications PDF\"\u001b[0m\n",
      "Observation: \u001b[36;1m\u001b[1;3mHMI of choice. The RXi – Web Panel provides vivid graphical capabilities and quick response times to provide access to relevant information, enable smarter ...\u001b[0m\n",
      "Thought:\u001b[32;1m\u001b[1;3m I now know the final answer\n",
      "Final Answer: The best selling Human Machine Interface (HMI) from Emerson are Honeywell International Inc., Siemens AG, Rockwell Automation Inc., Schneider Electric SE, ABB Ltd, General Electric SE, and the PDF files for their specifications can be found by searching \"Emerson HMI specifications PDF\".\u001b[0m\n",
      "\n",
      "\u001b[1m> Finished chain.\u001b[0m\n"
     ]
    },
    {
     "data": {
      "text/plain": [
       "'The best selling Human Machine Interface (HMI) from Emerson are Honeywell International Inc., Siemens AG, Rockwell Automation Inc., Schneider Electric SE, ABB Ltd, General Electric SE, and the PDF files for their specifications can be found by searching \"Emerson HMI specifications PDF\".'"
      ]
     },
     "execution_count": 15,
     "metadata": {},
     "output_type": "execute_result"
    }
   ],
   "source": [
    "agent.run(\"What are the best selling Human Machine Interface (HMI) from emerson? List these specification PDF files link\")\n"
   ]
  },
  {
   "cell_type": "markdown",
   "metadata": {},
   "source": [
    "# Memory"
   ]
  },
  {
   "cell_type": "code",
   "execution_count": 12,
   "metadata": {},
   "outputs": [
    {
     "name": "stdout",
     "output_type": "stream",
     "text": [
      "\n",
      "\n",
      "\u001b[1m> Entering new ConversationChain chain...\u001b[0m\n",
      "Prompt after formatting:\n",
      "\u001b[32;1m\u001b[1;3mThe following is a friendly conversation between a human and an AI. The AI is talkative and provides lots of specific details from its context. If the AI does not know the answer to a question, it truthfully says it does not know.\n",
      "\n",
      "Current conversation:\n",
      "\n",
      "Human: What is the best selling Human Machine Interface (HMI) from Emerson?\n",
      "AI:\u001b[0m\n",
      "\n",
      "\u001b[1m> Finished chain.\u001b[0m\n"
     ]
    },
    {
     "data": {
      "text/plain": [
       "' The best selling Human Machine Interface (HMI) from Emerson is the Emerson Pro-face GP4000 Series. It is a powerful, user-friendly HMI that offers a wide range of features and functions to help you manage your operations. It is designed to be easy to use and provides a comprehensive set of tools to help you monitor and control your processes. It also offers a variety of communication options, including Ethernet, USB, and serial ports.'"
      ]
     },
     "execution_count": 12,
     "metadata": {},
     "output_type": "execute_result"
    }
   ],
   "source": [
    "from langchain import OpenAI, ConversationChain\n",
    "\n",
    "llm = OpenAI(temperature=0)\n",
    "conversation = ConversationChain(llm=llm, verbose=True)\n",
    "\n",
    "conversation.run(\"What is the best selling Human Machine Interface (HMI) from Emerson?\")"
   ]
  },
  {
   "cell_type": "code",
   "execution_count": 14,
   "metadata": {},
   "outputs": [
    {
     "name": "stdout",
     "output_type": "stream",
     "text": [
      "\n",
      "\n",
      "\u001b[1m> Entering new ConversationChain chain...\u001b[0m\n",
      "Prompt after formatting:\n",
      "\u001b[32;1m\u001b[1;3mThe following is a friendly conversation between a human and an AI. The AI is talkative and provides lots of specific details from its context. If the AI does not know the answer to a question, it truthfully says it does not know.\n",
      "\n",
      "Current conversation:\n",
      "Human: What is the best selling Human Machine Interface (HMI) from Emerson?\n",
      "AI:  The best selling Human Machine Interface (HMI) from Emerson is the Emerson Pro-face GP4000 Series. It is a powerful, user-friendly HMI that offers a wide range of features and functions to help you manage your operations. It is designed to be easy to use and provides a comprehensive set of tools to help you monitor and control your processes. It also offers a variety of communication options, including Ethernet, USB, and serial ports.\n",
      "Human: What is the sell numbers?\n",
      "AI:  I'm sorry, I do not know the exact sell numbers for the Emerson Pro-face GP4000 Series. However, I can tell you that it is one of the most popular HMIs on the market and is widely used in a variety of industries.\n",
      "Human: What industry might use this?\n",
      "AI:\u001b[0m\n",
      "\n",
      "\u001b[1m> Finished chain.\u001b[0m\n"
     ]
    },
    {
     "data": {
      "text/plain": [
       "' The Emerson Pro-face GP4000 Series is used in a variety of industries, including manufacturing, automotive, energy, and healthcare. It is also used in industrial automation, process control, and other applications.'"
      ]
     },
     "execution_count": 14,
     "metadata": {},
     "output_type": "execute_result"
    }
   ],
   "source": [
    "conversation.run(\"What industry might use this?\")"
   ]
  }
 ],
 "metadata": {
  "kernelspec": {
   "display_name": "Python 3.9.13 ('py39')",
   "language": "python",
   "name": "python3"
  },
  "language_info": {
   "codemirror_mode": {
    "name": "ipython",
    "version": 3
   },
   "file_extension": ".py",
   "mimetype": "text/x-python",
   "name": "python",
   "nbconvert_exporter": "python",
   "pygments_lexer": "ipython3",
   "version": "3.9.13"
  },
  "orig_nbformat": 4,
  "vscode": {
   "interpreter": {
    "hash": "32efd6f67a841a19f53b75b62e5e32a4d4fde7ea0af6a18743f35490c2538f93"
   }
  }
 },
 "nbformat": 4,
 "nbformat_minor": 2
}
