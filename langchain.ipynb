{
 "cells": [
  {
   "cell_type": "markdown",
   "metadata": {},
   "source": [
    "# Overview\n",
    "This notebook is for learning langchain. You will get through these key features in langchain framework.\n",
    "* Prompt template\n",
    "* Chain: Combine LLMs and propmpts in multi-step workflows \n",
    "* Agents: Dynamically Call Chains Based on User Input\n"
   ]
  },
  {
   "cell_type": "markdown",
   "metadata": {},
   "source": [
    "# Setup"
   ]
  },
  {
   "cell_type": "code",
   "execution_count": 1,
   "metadata": {},
   "outputs": [],
   "source": [
    "import os\n",
    "from langchain.llms import OpenAI\n",
    "\n",
    "f = open(\"gpt_api_key.txt\", 'r')\n",
    "api_key = f.read()\n",
    "\n",
    "\n",
    "os.environ[\"OPENAI_API_KEY\"] = api_key\n",
    "\n",
    "llm = OpenAI(openai_api_key=api_key)"
   ]
  },
  {
   "cell_type": "code",
   "execution_count": 2,
   "metadata": {},
   "outputs": [
    {
     "name": "stdout",
     "output_type": "stream",
     "text": [
      "\n",
      "\n",
      "ColorfulSox.\n"
     ]
    }
   ],
   "source": [
    "text = \"What would be a good company name for a company that makes colorful socks?\"\n",
    "print(llm(text))"
   ]
  },
  {
   "cell_type": "markdown",
   "metadata": {},
   "source": [
    "\n",
    "# Prompt Template"
   ]
  },
  {
   "cell_type": "code",
   "execution_count": 3,
   "metadata": {},
   "outputs": [],
   "source": [
    "from langchain.prompts import PromptTemplate\n",
    "\n",
    "prompt = PromptTemplate(\n",
    "    input_variables=[\"product\"],\n",
    "    template=\"What is a good name for a company that makes {product}?\",\n",
    ")"
   ]
  },
  {
   "cell_type": "code",
   "execution_count": 4,
   "metadata": {},
   "outputs": [
    {
     "name": "stdout",
     "output_type": "stream",
     "text": [
      "What is a good name for a company that makes colorful socks?\n"
     ]
    }
   ],
   "source": [
    "print(prompt.format(product=\"colorful socks\"))"
   ]
  },
  {
   "cell_type": "markdown",
   "metadata": {},
   "source": [
    "# Chains: Combine LLMs and propmpts in multi-step workflows \n"
   ]
  },
  {
   "cell_type": "code",
   "execution_count": 38,
   "metadata": {},
   "outputs": [],
   "source": [
    "from langchain.prompts import PromptTemplate\n",
    "from langchain.llms import OpenAI\n",
    "\n",
    "llm = OpenAI(temperature=0.9)\n",
    "\n",
    "# Prompt template and takes user input \n",
    "prompt = PromptTemplate(\n",
    "    input_variables=[\"product\"],\n",
    "    template=\"What is a good name for a company that makes {product}?\",\n",
    ")\n",
    "\n",
    "from langchain.chains import LLMChain\n",
    "chain = LLMChain(llm=llm, prompt=prompt)"
   ]
  },
  {
   "cell_type": "code",
   "execution_count": 39,
   "metadata": {},
   "outputs": [
    {
     "data": {
      "text/plain": [
       "'\\n\\nCheery Toes Socks.'"
      ]
     },
     "execution_count": 39,
     "metadata": {},
     "output_type": "execute_result"
    }
   ],
   "source": [
    "chain.run(\"colorful socks\")"
   ]
  },
  {
   "cell_type": "markdown",
   "metadata": {},
   "source": [
    "# Agents: Dynamically Call Chains Based on User Input"
   ]
  },
  {
   "cell_type": "code",
   "execution_count": 12,
   "metadata": {},
   "outputs": [],
   "source": [
    "import os\n",
    "serpapi_key = \"d67bc714d560e7fa8ae84d5e493c002d988eac6904b6f82bf448a8edc48eed13\"\n",
    "os.environ[\"SERPAPI_API_KEY\"] = serpapi_key\n"
   ]
  },
  {
   "cell_type": "code",
   "execution_count": 13,
   "metadata": {},
   "outputs": [
    {
     "name": "stderr",
     "output_type": "stream",
     "text": [
      "WARNING! api_key is not default parameter.\n",
      "                    api_key was transferred to model_kwargs.\n",
      "                    Please confirm that api_key is what you intended.\n"
     ]
    },
    {
     "name": "stdout",
     "output_type": "stream",
     "text": [
      "\n",
      "\n",
      "\u001b[1m> Entering new AgentExecutor chain...\u001b[0m\n",
      "\u001b[32;1m\u001b[1;3m I need to find out what the best selling Omron blood pressure monitor is and its size.\n",
      "Action: Search\n",
      "Action Input: \"Best selling Omron blood pressure monitor\"\u001b[0m\n",
      "Observation: \u001b[36;1m\u001b[1;3m[{'position': 1, 'block_position': 'top', 'title': 'Oxiline - Pressure X Pro - Standard Cuff (8.7\" – 14.2\")', 'price': '$119.00', 'extracted_price': 119.0, 'link': 'https://oxiline.shop/product/pressure-x-pro/?attribute_cuff-size=Standard+Cuff+(8.7%22+%E2%80%93+14.2%22)&utm_source=Google+Shopping&utm_medium=cpc&utm_campaign=google-sheets', 'source': 'Oxiline', 'thumbnail': 'https://serpapi.com/searches/6492a06ff716ee24556d5fb9/images/e6ae56af676bc5eba0385e57d65f8adb763a9f44c870f76d500f1c1fc770b0cf.webp', 'extensions': ['$10 off', '$109 with code', '30-day return policy']}, {'position': 2, 'block_position': 'top', 'title': 'Omron - 5 Series Upper Arm Blood Pressure Monitor,5 Series, Blood Pressure Monitor,Each,BP7200', 'price': '$128.39', 'extracted_price': 128.39, 'link': 'https://www.healthproductsforyou.com/p-omron-5-series-upper-arm-blood-pressure-monitor.html?utm_source=google&utm_medium=surfaces&utm_campaign=shopping%20feed&utm_content=free%20google%20shopping%20clicks', 'source': 'HealthProductsForYou.com', 'rating': 4.5, 'reviews': 370, 'thumbnail': 'https://serpapi.com/searches/6492a06ff716ee24556d5fb9/images/e6ae56af676bc5eba0385e57d65f8adbeba13db075249ffa69c919726b0a680b.webp', 'extensions': ['30-day returns (most items)']}, {'position': 3, 'block_position': 'top', 'title': 'Omron - 5 Series Upper Arm Blood Pressure Monitor', 'price': '$59.99', 'extracted_price': 59.99, 'old_price': '$72', 'extracted_old_price': 72, 'link': 'https://omronhealthcare.com/products/5-series-upper-arm-blood-pressure-monitor-bp7200/', 'source': 'Omron Healthcare', 'thumbnail': 'https://serpapi.com/searches/6492a06ff716ee24556d5fb9/images/e6ae56af676bc5eba0385e57d65f8adb3faeafa7f39e3f11db1ad08f05ffc618.webp', 'extensions': ['Sale', 'Free shipping', '30-day returns (most items)']}]\u001b[0m\n",
      "Thought:\u001b[32;1m\u001b[1;3m I now know the best selling Omron blood pressure monitor is the 5 Series Upper Arm Blood Pressure Monitor.\n",
      "Final Answer: The best selling Omron blood pressure monitor is the 5 Series Upper Arm Blood Pressure Monitor. The size of the monitor is not specified.\u001b[0m\n",
      "\n",
      "\u001b[1m> Finished chain.\u001b[0m\n"
     ]
    },
    {
     "data": {
      "text/plain": [
       "'The best selling Omron blood pressure monitor is the 5 Series Upper Arm Blood Pressure Monitor. The size of the monitor is not specified.'"
      ]
     },
     "execution_count": 13,
     "metadata": {},
     "output_type": "execute_result"
    }
   ],
   "source": [
    "from langchain.agents import load_tools\n",
    "from langchain.agents import initialize_agent\n",
    "from langchain.agents import AgentType\n",
    "from langchain.llms import OpenAI\n",
    "\n",
    "# First, let's load the language model we're going to use to control the agent.\n",
    "llm = OpenAI(api_key=api_key, temperature=0)\n",
    "\n",
    "# Next, let's load some tools to use. Note that the `llm-math` tool uses an LLM, so we need to pass that in.\n",
    "tools = load_tools([\"serpapi\", \"llm-math\"], llm=llm)\n",
    "\n",
    "\n",
    "# Finally, let's initialize an agent with the tools, the language model, and the type of agent we want to use.\n",
    "agent = initialize_agent(tools, llm, agent=AgentType.ZERO_SHOT_REACT_DESCRIPTION, verbose=True)\n",
    "\n",
    "# Now let's test it out!\n",
    "# agent.run(\"What was the high temperature in SF yesterday in Fahrenheit? What is that number raised to the .023 power?\")\n",
    "\n",
    "agent.run(\"What Omron blood pressure monitor is the best selling? How large is the Omron blood pressure monitor?\")"
   ]
  },
  {
   "cell_type": "code",
   "execution_count": 15,
   "metadata": {},
   "outputs": [
    {
     "name": "stdout",
     "output_type": "stream",
     "text": [
      "\n",
      "\n",
      "\u001b[1m> Entering new AgentExecutor chain...\u001b[0m\n",
      "\u001b[32;1m\u001b[1;3m I need to find out what the best selling HMI from Emerson are and find the PDF files for their specifications\n",
      "Action: Search\n",
      "Action Input: \"Best selling HMI from Emerson\"\u001b[0m\n",
      "Observation: \u001b[36;1m\u001b[1;3m1. Honeywell International Inc. · 2. Siemens AG · 3. Rockwell Automation Inc. · 4. Schneider Electric SE · 5. ABB Ltd · 6. General Electric SE · 7.\u001b[0m\n",
      "Thought:\u001b[32;1m\u001b[1;3m I need to find the PDF files for the specifications\n",
      "Action: Search\n",
      "Action Input: \"Emerson HMI specifications PDF\"\u001b[0m\n",
      "Observation: \u001b[36;1m\u001b[1;3mHMI of choice. The RXi – Web Panel provides vivid graphical capabilities and quick response times to provide access to relevant information, enable smarter ...\u001b[0m\n",
      "Thought:\u001b[32;1m\u001b[1;3m I now know the final answer\n",
      "Final Answer: The best selling Human Machine Interface (HMI) from Emerson are Honeywell International Inc., Siemens AG, Rockwell Automation Inc., Schneider Electric SE, ABB Ltd, General Electric SE, and the PDF files for their specifications can be found by searching \"Emerson HMI specifications PDF\".\u001b[0m\n",
      "\n",
      "\u001b[1m> Finished chain.\u001b[0m\n"
     ]
    },
    {
     "data": {
      "text/plain": [
       "'The best selling Human Machine Interface (HMI) from Emerson are Honeywell International Inc., Siemens AG, Rockwell Automation Inc., Schneider Electric SE, ABB Ltd, General Electric SE, and the PDF files for their specifications can be found by searching \"Emerson HMI specifications PDF\".'"
      ]
     },
     "execution_count": 15,
     "metadata": {},
     "output_type": "execute_result"
    }
   ],
   "source": [
    "agent.run(\"What are the best selling Human Machine Interface (HMI) from emerson? List these specification PDF files link\")\n"
   ]
  }
 ],
 "metadata": {
  "kernelspec": {
   "display_name": "Python 3.9.13 ('py39')",
   "language": "python",
   "name": "python3"
  },
  "language_info": {
   "codemirror_mode": {
    "name": "ipython",
    "version": 3
   },
   "file_extension": ".py",
   "mimetype": "text/x-python",
   "name": "python",
   "nbconvert_exporter": "python",
   "pygments_lexer": "ipython3",
   "version": "3.9.13"
  },
  "orig_nbformat": 4,
  "vscode": {
   "interpreter": {
    "hash": "32efd6f67a841a19f53b75b62e5e32a4d4fde7ea0af6a18743f35490c2538f93"
   }
  }
 },
 "nbformat": 4,
 "nbformat_minor": 2
}
