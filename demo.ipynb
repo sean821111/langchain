{
 "cells": [
  {
   "cell_type": "markdown",
   "metadata": {},
   "source": [
    "# 📰 與文件問答\n",
    "\n",
    "<img src=\"https://www.notion.so/image/https%3A%2F%2Fs3-us-west-2.amazonaws.com%2Fsecure.notion-static.com%2F82622d80-8c8a-4a92-a5a7-7751ab86c495%2FUntitled.png?table=block&id=2c5011af-cbed-49fc-b986-98883b204326&spaceId=3d67fbfd-2c46-4608-851e-549759470329&width=2000&userId=42adc2a8-d4a8-44c6-a20d-b52ec23ba594&cache=v2\" width=640 height=400>\n",
    "\n",
    "限制:\n",
    "* 不能讀取過長的文本(chain_type=stuff)\n",
    "* 有時候會回復非 prompt template 之外的內容\n",
    "* 文本僅含有一種產品規格\n",
    "\n",
    "\n",
    "prompt template:\n",
    "```\n",
    "Use the following pieces of context to answer the question, \n",
    "if you don't know the answer, leave it blank don't try to make up an answer.\n",
    "        {context}\n",
    "Question: {question}\n",
    "Answer in JSON representations\n",
    "```\n",
    "\n",
    "query content\n",
    "```\n",
    "What is the display specifications?\n",
    "include: company_name, \n",
    "        product_name, \n",
    "        size_inch,\n",
    "        resolution,contrast,\n",
    "        operation_temperature,\n",
    "        sunlight_readable,\n",
    "        antiglare,\n",
    "```"
   ]
  },
  {
   "cell_type": "code",
   "execution_count": 7,
   "metadata": {},
   "outputs": [],
   "source": [
    "import docsGPT\n",
    "import json"
   ]
  },
  {
   "cell_type": "code",
   "execution_count": 8,
   "metadata": {},
   "outputs": [],
   "source": [
    "example_data1 = \"example_data/rxi-web-panel-emerson.pdf\"\n",
    "example_data2 = \"example_data/HEM-6232T Manual - Omron Healthcare.pdf\"\n",
    "example_data3 = \"example_data/10-04-580-SPC - Wall-Smart.pdf\"\n",
    "\n",
    "\n",
    "docs_result = docsGPT.chat_document(example_data2)"
   ]
  },
  {
   "cell_type": "code",
   "execution_count": 9,
   "metadata": {},
   "outputs": [
    {
     "data": {
      "text/plain": [
       "{'company_name': 'OMRON',\n",
       " 'product_name': 'Wrist Blood Pressure Monitor',\n",
       " 'size_inch': 'N/A',\n",
       " 'resolution': 'N/A',\n",
       " 'contrast': 'N/A',\n",
       " 'operation_temperature': 'N/A',\n",
       " 'sunlight_readable': 'N/A',\n",
       " 'antiglare': 'N/A'}"
      ]
     },
     "execution_count": 9,
     "metadata": {},
     "output_type": "execute_result"
    }
   ],
   "source": [
    "json.loads(docs_result)"
   ]
  },
  {
   "cell_type": "code",
   "execution_count": 10,
   "metadata": {},
   "outputs": [
    {
     "name": "stderr",
     "output_type": "stream",
     "text": [
      "Number of requested results 4 is greater than number of elements in index 2, updating n_results = 2\n"
     ]
    },
    {
     "data": {
      "text/plain": [
       "{'company_name': 'Control4',\n",
       " 'product_name': 'T3 Series 7\" Tabletop Touch Screen',\n",
       " 'size_inch': 7,\n",
       " 'resolution': '1280 × 800',\n",
       " 'contrast': 'N/A',\n",
       " 'operation_temperature': '32 ~ 104˚F (0˚ ~ 40˚C)',\n",
       " 'sunlight_readable': 'No',\n",
       " 'antiglare': 'No'}"
      ]
     },
     "execution_count": 10,
     "metadata": {},
     "output_type": "execute_result"
    }
   ],
   "source": [
    "docs_result = docsGPT.chat_document(example_data3)\n",
    "json.loads(docs_result)"
   ]
  },
  {
   "cell_type": "markdown",
   "metadata": {},
   "source": [
    "# 🕵️ 整合搜尋引擎以及LLM\n",
    "\n",
    "使LLM具備推理能力，能夠以一連串的行為，推理出最後答案"
   ]
  },
  {
   "cell_type": "code",
   "execution_count": 4,
   "metadata": {},
   "outputs": [
    {
     "name": "stderr",
     "output_type": "stream",
     "text": [
      "WARNING! api_key is not default parameter.\n",
      "                    api_key was transferred to model_kwargs.\n",
      "                    Please confirm that api_key is what you intended.\n"
     ]
    },
    {
     "name": "stdout",
     "output_type": "stream",
     "text": [
      "\n",
      "\n",
      "\u001b[1m> Entering new AgentExecutor chain...\u001b[0m\n",
      "\u001b[32;1m\u001b[1;3m I should search for companies that make portable detectors with monitors.\n",
      "Action: Search\n",
      "Action Input: \"portable detector with monitor\"\u001b[0m\n",
      "Observation: \u001b[36;1m\u001b[1;3mMini Portable CO2 Detector, Aiment 3-in-1 Lightweight Carbon Dioxide Detector Air Quality Monitor Temperature Humidity Air Analyzer Digital CO2 Meter for ...\u001b[0m\n",
      "Thought:\u001b[32;1m\u001b[1;3m I should look for more companies that make portable detectors with monitors.\n",
      "Action: Search\n",
      "Action Input: \"portable detector with monitor companies\"\u001b[0m\n",
      "Observation: \u001b[36;1m\u001b[1;3mAt PK Safety, we sell dozens of high-quality portable multi gas monitors and single gas monitors, so you can protect yourself from a range of ...\u001b[0m\n",
      "Thought:\u001b[32;1m\u001b[1;3m I should look for more companies that make portable detectors with monitors.\n",
      "Action: Search\n",
      "Action Input: \"portable detector with monitor manufacturers\"\u001b[0m\n",
      "Observation: \u001b[36;1m\u001b[1;3mChemLogic CLPx Portable Gas Detector. $7,671.00 ; XPS-7II Portable Electrochemical Gas Detector. $2,430.00 ; IsoSense Personal MDI Detection Kit.\u001b[0m\n",
      "Thought:\u001b[32;1m\u001b[1;3m I now know the final answer.\n",
      "Final Answer: company_list = [\"Mini Portable CO2 Detector\", \"Aiment 3-in-1 Lightweight Carbon Dioxide Detector Air Quality Monitor\", \"PK Safety\", \"ChemLogic CLPx Portable Gas Detector\", \"XPS-7II Portable Electrochemical Gas Detector\", \"IsoSense Personal MDI Detection Kit\"].\u001b[0m\n",
      "\n",
      "\u001b[1m> Finished chain.\u001b[0m\n"
     ]
    }
   ],
   "source": [
    "import searchGPT\n",
    "\n",
    "example_text = \"\"\"\n",
    "            Can you provide the company name manufacturer of portable detector wihch have monitor on it?\n",
    "            answering me at least 3 companies names and return the company names with following format\n",
    "            company_list= [company_name1, company_name2, company_name3].\n",
    "            \"\"\"\n",
    "searchGPT.search_gpt(example_text)\n"
   ]
  },
  {
   "cell_type": "code",
   "execution_count": 11,
   "metadata": {},
   "outputs": [
    {
     "data": {
      "text/plain": [
       "True"
      ]
     },
     "execution_count": 11,
     "metadata": {},
     "output_type": "execute_result"
    }
   ],
   "source": [
    "import os\n",
    "from dotenv import load_dotenv\n",
    "\n",
    "load_dotenv()\n"
   ]
  }
 ],
 "metadata": {
  "kernelspec": {
   "display_name": "Python 3.9.13 ('py39')",
   "language": "python",
   "name": "python3"
  },
  "language_info": {
   "codemirror_mode": {
    "name": "ipython",
    "version": 3
   },
   "file_extension": ".py",
   "mimetype": "text/x-python",
   "name": "python",
   "nbconvert_exporter": "python",
   "pygments_lexer": "ipython3",
   "version": "3.9.13"
  },
  "orig_nbformat": 4,
  "vscode": {
   "interpreter": {
    "hash": "32efd6f67a841a19f53b75b62e5e32a4d4fde7ea0af6a18743f35490c2538f93"
   }
  }
 },
 "nbformat": 4,
 "nbformat_minor": 2
}
